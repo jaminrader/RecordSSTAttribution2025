{
 "cells": [
  {
   "cell_type": "code",
   "execution_count": 1,
   "metadata": {},
   "outputs": [],
   "source": [
    "import time, gc\n",
    "import tensorflow as tf\n",
    "import numpy as np\n",
    "\n",
    "import directories, experiments, data_methods, network_methods, metrics\n",
    "\n",
    "user_name = \"jamin\"\n",
    "append_to_tuning_txt = True\n"
   ]
  },
  {
   "cell_type": "code",
   "execution_count": 2,
   "metadata": {},
   "outputs": [
    {
     "name": "stdout",
     "output_type": "stream",
     "text": [
      "*** Preparing data for main3_noboot\n",
      "{'data_fn': 'standard_tos_annual.npz', 'obs_fn': 'era5_sst_annual_regrid.nc', 'split_members': ([0, 1, 2, 3, 4, 5, 6, 7, 8, 9, 10, 11, 12, 13, 14, 15, 16], [17, 18, 19, 20, 21, 22, 23, 24], [0, 1, 2, 3, 4, 5, 6, 7, 8, 9, 10, 11, 12, 13, 14, 15, 16, 17, 18, 19, 20, 21, 22, 23, 24]), 'data_aug_method': None, 'alter_forced_method': None, 'in_stand_method': 'self_by_member_mean_only', 'out_stand_method': 'gridpoint_stand', 'seed': 0, 'learn_rate': 0.001, 'patience': 15, 'batch_size': 64, 'max_epochs': 5, 'encoding_nodes': [100, 100], 'code_nodes': 100, 'activation': 'tanh', 'ridge': 0.0, 'variational': False, 'variational_loss': 0.0001, 'bias_init': 'random', 'kernel_init': 'random', 'skip': True, 'conv_blocks': ([['Skip'], ['Conv', 32, 3, 1, 'relu'], ['Conv', 32, 3, 1, 'relu'], ['MaxP', 2], ['Skip']], [['Conv', 32, 3, 1, 'relu'], ['Conv', 32, 3, 1, 'relu'], ['MaxP', 2], ['Skip']]), 'split_models': ([0, 1, 2, 4], [0, 1, 2, 4], [3]), 'exp_name': 'main3_noboot'}\n"
     ]
    },
    {
     "name": "stderr",
     "output_type": "stream",
     "text": [
      "/Users/Jamin/Library/CloudStorage/GoogleDrive-jaminrader.science@gmail.com/My Drive/2024/ForcedTrend/data_methods.py:151: RuntimeWarning: Mean of empty slice\n",
      "  Dmean = np.nanmean(basis, axis=(0,1,2))[None, None, None, ...]\n",
      "/Users/Jamin/miniforge3/envs/forcetrend/lib/python3.9/site-packages/numpy/lib/nanfunctions.py:1878: RuntimeWarning: Degrees of freedom <= 0 for slice.\n",
      "  var = nanvar(a, axis=axis, dtype=dtype, out=out, ddof=ddof,\n",
      "/Users/Jamin/Library/CloudStorage/GoogleDrive-jaminrader.science@gmail.com/My Drive/2024/ForcedTrend/data_methods.py:174: RuntimeWarning: Mean of empty slice\n",
      "  Dmean = np.nanmean(basis, axis=2)[:, :, None, ...]\n",
      "WARNING:absl:At this time, the v2.11+ optimizer `tf.keras.optimizers.Adam` runs slowly on M1/M2 Macs, please use the legacy Keras optimizer instead, located at `tf.keras.optimizers.legacy.Adam`.\n",
      "WARNING:absl:There is a known slowdown when using v2.11+ Keras optimizers on M1/M2 Macs. Falling back to the legacy Keras optimizer, i.e., `tf.keras.optimizers.legacy.Adam`.\n"
     ]
    },
    {
     "name": "stdout",
     "output_type": "stream",
     "text": [
      "*** Training model for main3_noboot\n",
      "Time elapsed for training:  339.99276995658875\n",
      "*** Making predictions for main3_noboot\n",
      "156/156 [==============================] - 23s 150ms/step\n",
      "73/73 [==============================] - 12s 162ms/step\n",
      "58/58 [==============================] - 9s 151ms/step\n",
      "R2 of IV: 0.903\n",
      "15-yr Trends MAESS: 0.715\n",
      "*** Preparing data for main3_bootI\n",
      "{'data_fn': 'standard_tos_annual.npz', 'obs_fn': 'era5_sst_annual_regrid.nc', 'split_members': ([0, 1, 2, 3, 4, 5, 6, 7, 8, 9, 10, 11, 12, 13, 14, 15, 16], [17, 18, 19, 20, 21, 22, 23, 24], [0, 1, 2, 3, 4, 5, 6, 7, 8, 9, 10, 11, 12, 13, 14, 15, 16, 17, 18, 19, 20, 21, 22, 23, 24]), 'data_aug_method': 'bootstrap_Itrain2Itest', 'alter_forced_method': None, 'in_stand_method': 'self_by_member_mean_only', 'out_stand_method': 'gridpoint_stand', 'seed': 0, 'learn_rate': 0.001, 'patience': 15, 'batch_size': 64, 'max_epochs': 5, 'encoding_nodes': [100, 100], 'code_nodes': 100, 'activation': 'tanh', 'ridge': 0.0, 'variational': False, 'variational_loss': 0.0001, 'bias_init': 'random', 'kernel_init': 'random', 'skip': True, 'conv_blocks': ([['Skip'], ['Conv', 32, 3, 1, 'relu'], ['Conv', 32, 3, 1, 'relu'], ['MaxP', 2], ['Skip']], [['Conv', 32, 3, 1, 'relu'], ['Conv', 32, 3, 1, 'relu'], ['MaxP', 2], ['Skip']]), 'split_models': ([0, 1, 2, 4], [0, 1, 2, 4], [3]), 'exp_name': 'main3_bootI'}\n"
     ]
    },
    {
     "name": "stderr",
     "output_type": "stream",
     "text": [
      "/Users/Jamin/Library/CloudStorage/GoogleDrive-jaminrader.science@gmail.com/My Drive/2024/ForcedTrend/data_methods.py:151: RuntimeWarning: Mean of empty slice\n",
      "  Dmean = np.nanmean(basis, axis=(0,1,2))[None, None, None, ...]\n",
      "/Users/Jamin/miniforge3/envs/forcetrend/lib/python3.9/site-packages/numpy/lib/nanfunctions.py:1878: RuntimeWarning: Degrees of freedom <= 0 for slice.\n",
      "  var = nanvar(a, axis=axis, dtype=dtype, out=out, ddof=ddof,\n",
      "/Users/Jamin/Library/CloudStorage/GoogleDrive-jaminrader.science@gmail.com/My Drive/2024/ForcedTrend/data_methods.py:174: RuntimeWarning: Mean of empty slice\n",
      "  Dmean = np.nanmean(basis, axis=2)[:, :, None, ...]\n",
      "WARNING:absl:At this time, the v2.11+ optimizer `tf.keras.optimizers.Adam` runs slowly on M1/M2 Macs, please use the legacy Keras optimizer instead, located at `tf.keras.optimizers.legacy.Adam`.\n",
      "WARNING:absl:There is a known slowdown when using v2.11+ Keras optimizers on M1/M2 Macs. Falling back to the legacy Keras optimizer, i.e., `tf.keras.optimizers.legacy.Adam`.\n"
     ]
    },
    {
     "name": "stdout",
     "output_type": "stream",
     "text": [
      "*** Training model for main3_bootI\n",
      "Time elapsed for training:  1184.8233180046082\n",
      "*** Making predictions for main3_bootI\n",
      "621/621 [==============================] - 92s 148ms/step\n",
      "73/73 [==============================] - 12s 162ms/step\n",
      "156/156 [==============================] - 25s 162ms/step\n",
      "R2 of IV: 0.917\n",
      "15-yr Trends MAESS: 0.719\n",
      "*** Preparing data for main3_bootF\n",
      "{'data_fn': 'standard_tos_annual.npz', 'obs_fn': 'era5_sst_annual_regrid.nc', 'split_members': ([0, 1, 2, 3, 4, 5, 6, 7, 8, 9, 10, 11, 12, 13, 14, 15, 16], [17, 18, 19, 20, 21, 22, 23, 24], [0, 1, 2, 3, 4, 5, 6, 7, 8, 9, 10, 11, 12, 13, 14, 15, 16, 17, 18, 19, 20, 21, 22, 23, 24]), 'data_aug_method': 'bootstrap_Ftrain2Ftest', 'alter_forced_method': None, 'in_stand_method': 'self_by_member_mean_only', 'out_stand_method': 'gridpoint_stand', 'seed': 0, 'learn_rate': 0.001, 'patience': 15, 'batch_size': 64, 'max_epochs': 5, 'encoding_nodes': [100, 100], 'code_nodes': 100, 'activation': 'tanh', 'ridge': 0.0, 'variational': False, 'variational_loss': 0.0001, 'bias_init': 'random', 'kernel_init': 'random', 'skip': True, 'conv_blocks': ([['Skip'], ['Conv', 32, 3, 1, 'relu'], ['Conv', 32, 3, 1, 'relu'], ['MaxP', 2], ['Skip']], [['Conv', 32, 3, 1, 'relu'], ['Conv', 32, 3, 1, 'relu'], ['MaxP', 2], ['Skip']]), 'split_models': ([0, 1, 2, 4], [0, 1, 2, 4], [3]), 'exp_name': 'main3_bootF'}\n"
     ]
    },
    {
     "name": "stderr",
     "output_type": "stream",
     "text": [
      "/Users/Jamin/Library/CloudStorage/GoogleDrive-jaminrader.science@gmail.com/My Drive/2024/ForcedTrend/data_methods.py:151: RuntimeWarning: Mean of empty slice\n",
      "  Dmean = np.nanmean(basis, axis=(0,1,2))[None, None, None, ...]\n",
      "/Users/Jamin/miniforge3/envs/forcetrend/lib/python3.9/site-packages/numpy/lib/nanfunctions.py:1878: RuntimeWarning: Degrees of freedom <= 0 for slice.\n",
      "  var = nanvar(a, axis=axis, dtype=dtype, out=out, ddof=ddof,\n",
      "/Users/Jamin/Library/CloudStorage/GoogleDrive-jaminrader.science@gmail.com/My Drive/2024/ForcedTrend/data_methods.py:174: RuntimeWarning: Mean of empty slice\n",
      "  Dmean = np.nanmean(basis, axis=2)[:, :, None, ...]\n"
     ]
    },
    {
     "name": "stdout",
     "output_type": "stream",
     "text": [
      "*** Training model for main3_bootF\n"
     ]
    },
    {
     "name": "stderr",
     "output_type": "stream",
     "text": [
      "WARNING:absl:At this time, the v2.11+ optimizer `tf.keras.optimizers.Adam` runs slowly on M1/M2 Macs, please use the legacy Keras optimizer instead, located at `tf.keras.optimizers.legacy.Adam`.\n",
      "WARNING:absl:There is a known slowdown when using v2.11+ Keras optimizers on M1/M2 Macs. Falling back to the legacy Keras optimizer, i.e., `tf.keras.optimizers.legacy.Adam`.\n"
     ]
    },
    {
     "name": "stdout",
     "output_type": "stream",
     "text": [
      "Time elapsed for training:  1196.2045121192932\n",
      "*** Making predictions for main3_bootF\n",
      "621/621 [==============================] - 89s 143ms/step\n",
      "73/73 [==============================] - 12s 160ms/step\n",
      "156/156 [==============================] - 24s 152ms/step\n",
      "R2 of IV: 0.926\n",
      "15-yr Trends MAESS: 0.751\n",
      "*** Preparing data for main3_I\n",
      "{'data_fn': 'standard_tos_annual.npz', 'obs_fn': 'era5_sst_annual_regrid.nc', 'split_members': ([0, 1, 2, 3, 4, 5, 6, 7, 8, 9, 10, 11, 12, 13, 14, 15, 16], [17, 18, 19, 20, 21, 22, 23, 24], [0, 1, 2, 3, 4, 5, 6, 7, 8, 9, 10, 11, 12, 13, 14, 15, 16, 17, 18, 19, 20, 21, 22, 23, 24]), 'data_aug_method': 'Itrain2Itest', 'alter_forced_method': None, 'in_stand_method': 'self_by_member_mean_only', 'out_stand_method': 'gridpoint_stand', 'seed': 0, 'learn_rate': 0.001, 'patience': 15, 'batch_size': 64, 'max_epochs': 5, 'encoding_nodes': [100, 100], 'code_nodes': 100, 'activation': 'tanh', 'ridge': 0.0, 'variational': False, 'variational_loss': 0.0001, 'bias_init': 'random', 'kernel_init': 'random', 'skip': True, 'conv_blocks': ([['Skip'], ['Conv', 32, 3, 1, 'relu'], ['Conv', 32, 3, 1, 'relu'], ['MaxP', 2], ['Skip']], [['Conv', 32, 3, 1, 'relu'], ['Conv', 32, 3, 1, 'relu'], ['MaxP', 2], ['Skip']]), 'split_models': ([0, 1, 2, 4], [0, 1, 2, 4], [3]), 'exp_name': 'main3_I'}\n"
     ]
    },
    {
     "name": "stderr",
     "output_type": "stream",
     "text": [
      "/Users/Jamin/Library/CloudStorage/GoogleDrive-jaminrader.science@gmail.com/My Drive/2024/ForcedTrend/data_methods.py:151: RuntimeWarning: Mean of empty slice\n",
      "  Dmean = np.nanmean(basis, axis=(0,1,2))[None, None, None, ...]\n",
      "/Users/Jamin/miniforge3/envs/forcetrend/lib/python3.9/site-packages/numpy/lib/nanfunctions.py:1878: RuntimeWarning: Degrees of freedom <= 0 for slice.\n",
      "  var = nanvar(a, axis=axis, dtype=dtype, out=out, ddof=ddof,\n",
      "/Users/Jamin/Library/CloudStorage/GoogleDrive-jaminrader.science@gmail.com/My Drive/2024/ForcedTrend/data_methods.py:174: RuntimeWarning: Mean of empty slice\n",
      "  Dmean = np.nanmean(basis, axis=2)[:, :, None, ...]\n"
     ]
    },
    {
     "name": "stdout",
     "output_type": "stream",
     "text": [
      "*** Training model for main3_I\n"
     ]
    },
    {
     "name": "stderr",
     "output_type": "stream",
     "text": [
      "WARNING:absl:At this time, the v2.11+ optimizer `tf.keras.optimizers.Adam` runs slowly on M1/M2 Macs, please use the legacy Keras optimizer instead, located at `tf.keras.optimizers.legacy.Adam`.\n",
      "WARNING:absl:There is a known slowdown when using v2.11+ Keras optimizers on M1/M2 Macs. Falling back to the legacy Keras optimizer, i.e., `tf.keras.optimizers.legacy.Adam`.\n"
     ]
    },
    {
     "name": "stdout",
     "output_type": "stream",
     "text": [
      "Time elapsed for training:  352.9485459327698\n",
      "*** Making predictions for main3_I\n",
      "156/156 [==============================] - 25s 159ms/step\n",
      "73/73 [==============================] - 13s 176ms/step\n",
      "156/156 [==============================] - 25s 163ms/step\n",
      "R2 of IV: 0.884\n",
      "15-yr Trends MAESS: 0.672\n",
      "*** Preparing data for main3_F\n",
      "{'data_fn': 'standard_tos_annual.npz', 'obs_fn': 'era5_sst_annual_regrid.nc', 'split_members': ([0, 1, 2, 3, 4, 5, 6, 7, 8, 9, 10, 11, 12, 13, 14, 15, 16], [17, 18, 19, 20, 21, 22, 23, 24], [0, 1, 2, 3, 4, 5, 6, 7, 8, 9, 10, 11, 12, 13, 14, 15, 16, 17, 18, 19, 20, 21, 22, 23, 24]), 'data_aug_method': 'Ftrain2Ftest', 'alter_forced_method': None, 'in_stand_method': 'self_by_member_mean_only', 'out_stand_method': 'gridpoint_stand', 'seed': 0, 'learn_rate': 0.001, 'patience': 15, 'batch_size': 64, 'max_epochs': 5, 'encoding_nodes': [100, 100], 'code_nodes': 100, 'activation': 'tanh', 'ridge': 0.0, 'variational': False, 'variational_loss': 0.0001, 'bias_init': 'random', 'kernel_init': 'random', 'skip': True, 'conv_blocks': ([['Skip'], ['Conv', 32, 3, 1, 'relu'], ['Conv', 32, 3, 1, 'relu'], ['MaxP', 2], ['Skip']], [['Conv', 32, 3, 1, 'relu'], ['Conv', 32, 3, 1, 'relu'], ['MaxP', 2], ['Skip']]), 'split_models': ([0, 1, 2, 4], [0, 1, 2, 4], [3]), 'exp_name': 'main3_F'}\n"
     ]
    },
    {
     "name": "stderr",
     "output_type": "stream",
     "text": [
      "/Users/Jamin/Library/CloudStorage/GoogleDrive-jaminrader.science@gmail.com/My Drive/2024/ForcedTrend/data_methods.py:151: RuntimeWarning: Mean of empty slice\n",
      "  Dmean = np.nanmean(basis, axis=(0,1,2))[None, None, None, ...]\n",
      "/Users/Jamin/miniforge3/envs/forcetrend/lib/python3.9/site-packages/numpy/lib/nanfunctions.py:1878: RuntimeWarning: Degrees of freedom <= 0 for slice.\n",
      "  var = nanvar(a, axis=axis, dtype=dtype, out=out, ddof=ddof,\n",
      "/Users/Jamin/Library/CloudStorage/GoogleDrive-jaminrader.science@gmail.com/My Drive/2024/ForcedTrend/data_methods.py:174: RuntimeWarning: Mean of empty slice\n",
      "  Dmean = np.nanmean(basis, axis=2)[:, :, None, ...]\n"
     ]
    },
    {
     "name": "stdout",
     "output_type": "stream",
     "text": [
      "*** Training model for main3_F\n"
     ]
    },
    {
     "name": "stderr",
     "output_type": "stream",
     "text": [
      "WARNING:absl:At this time, the v2.11+ optimizer `tf.keras.optimizers.Adam` runs slowly on M1/M2 Macs, please use the legacy Keras optimizer instead, located at `tf.keras.optimizers.legacy.Adam`.\n",
      "WARNING:absl:There is a known slowdown when using v2.11+ Keras optimizers on M1/M2 Macs. Falling back to the legacy Keras optimizer, i.e., `tf.keras.optimizers.legacy.Adam`.\n"
     ]
    },
    {
     "name": "stdout",
     "output_type": "stream",
     "text": [
      "Time elapsed for training:  353.36192512512207\n",
      "*** Making predictions for main3_F\n",
      "156/156 [==============================] - 24s 152ms/step\n",
      "73/73 [==============================] - 12s 160ms/step\n",
      "156/156 [==============================] - 25s 161ms/step\n",
      "R2 of IV: 0.910\n",
      "15-yr Trends MAESS: 0.722\n",
      "*** Preparing data for main2_noboot\n",
      "{'data_fn': 'standard_tos_annual.npz', 'obs_fn': 'era5_sst_annual_regrid.nc', 'split_members': ([0, 1, 2, 3, 4, 5, 6, 7, 8, 9, 10, 11, 12, 13, 14, 15, 16], [17, 18, 19, 20, 21, 22, 23, 24], [0, 1, 2, 3, 4, 5, 6, 7, 8, 9, 10, 11, 12, 13, 14, 15, 16, 17, 18, 19, 20, 21, 22, 23, 24]), 'data_aug_method': None, 'alter_forced_method': None, 'in_stand_method': 'self_by_member_mean_only', 'out_stand_method': 'gridpoint_stand', 'seed': 0, 'learn_rate': 0.001, 'patience': 15, 'batch_size': 64, 'max_epochs': 5, 'encoding_nodes': [100, 100], 'code_nodes': 100, 'activation': 'tanh', 'ridge': 0.0, 'variational': False, 'variational_loss': 0.0001, 'bias_init': 'random', 'kernel_init': 'random', 'skip': True, 'conv_blocks': ([['Skip'], ['Conv', 32, 3, 1, 'relu'], ['Conv', 32, 3, 1, 'relu'], ['MaxP', 2], ['Skip']], [['Conv', 32, 3, 1, 'relu'], ['Conv', 32, 3, 1, 'relu'], ['MaxP', 2], ['Skip']]), 'split_models': ([0, 1, 3, 4], [0, 1, 3, 4], [2]), 'exp_name': 'main2_noboot'}\n"
     ]
    },
    {
     "name": "stderr",
     "output_type": "stream",
     "text": [
      "/Users/Jamin/Library/CloudStorage/GoogleDrive-jaminrader.science@gmail.com/My Drive/2024/ForcedTrend/data_methods.py:151: RuntimeWarning: Mean of empty slice\n",
      "  Dmean = np.nanmean(basis, axis=(0,1,2))[None, None, None, ...]\n",
      "/Users/Jamin/miniforge3/envs/forcetrend/lib/python3.9/site-packages/numpy/lib/nanfunctions.py:1878: RuntimeWarning: Degrees of freedom <= 0 for slice.\n",
      "  var = nanvar(a, axis=axis, dtype=dtype, out=out, ddof=ddof,\n",
      "/Users/Jamin/Library/CloudStorage/GoogleDrive-jaminrader.science@gmail.com/My Drive/2024/ForcedTrend/data_methods.py:174: RuntimeWarning: Mean of empty slice\n",
      "  Dmean = np.nanmean(basis, axis=2)[:, :, None, ...]\n",
      "WARNING:absl:At this time, the v2.11+ optimizer `tf.keras.optimizers.Adam` runs slowly on M1/M2 Macs, please use the legacy Keras optimizer instead, located at `tf.keras.optimizers.legacy.Adam`.\n",
      "WARNING:absl:There is a known slowdown when using v2.11+ Keras optimizers on M1/M2 Macs. Falling back to the legacy Keras optimizer, i.e., `tf.keras.optimizers.legacy.Adam`.\n"
     ]
    },
    {
     "name": "stdout",
     "output_type": "stream",
     "text": [
      "*** Training model for main2_noboot\n",
      "Time elapsed for training:  348.34516310691833\n",
      "*** Making predictions for main2_noboot\n",
      "156/156 [==============================] - 25s 159ms/step\n",
      "73/73 [==============================] - 12s 165ms/step\n",
      "58/58 [==============================] - 9s 156ms/step\n",
      "R2 of IV: 0.831\n",
      "15-yr Trends MAESS: -0.286\n",
      "*** Preparing data for main2_bootI\n",
      "{'data_fn': 'standard_tos_annual.npz', 'obs_fn': 'era5_sst_annual_regrid.nc', 'split_members': ([0, 1, 2, 3, 4, 5, 6, 7, 8, 9, 10, 11, 12, 13, 14, 15, 16], [17, 18, 19, 20, 21, 22, 23, 24], [0, 1, 2, 3, 4, 5, 6, 7, 8, 9, 10, 11, 12, 13, 14, 15, 16, 17, 18, 19, 20, 21, 22, 23, 24]), 'data_aug_method': 'bootstrap_Itrain2Itest', 'alter_forced_method': None, 'in_stand_method': 'self_by_member_mean_only', 'out_stand_method': 'gridpoint_stand', 'seed': 0, 'learn_rate': 0.001, 'patience': 15, 'batch_size': 64, 'max_epochs': 5, 'encoding_nodes': [100, 100], 'code_nodes': 100, 'activation': 'tanh', 'ridge': 0.0, 'variational': False, 'variational_loss': 0.0001, 'bias_init': 'random', 'kernel_init': 'random', 'skip': True, 'conv_blocks': ([['Skip'], ['Conv', 32, 3, 1, 'relu'], ['Conv', 32, 3, 1, 'relu'], ['MaxP', 2], ['Skip']], [['Conv', 32, 3, 1, 'relu'], ['Conv', 32, 3, 1, 'relu'], ['MaxP', 2], ['Skip']]), 'split_models': ([0, 1, 3, 4], [0, 1, 3, 4], [2]), 'exp_name': 'main2_bootI'}\n"
     ]
    },
    {
     "name": "stderr",
     "output_type": "stream",
     "text": [
      "/Users/Jamin/Library/CloudStorage/GoogleDrive-jaminrader.science@gmail.com/My Drive/2024/ForcedTrend/data_methods.py:151: RuntimeWarning: Mean of empty slice\n",
      "  Dmean = np.nanmean(basis, axis=(0,1,2))[None, None, None, ...]\n",
      "/Users/Jamin/miniforge3/envs/forcetrend/lib/python3.9/site-packages/numpy/lib/nanfunctions.py:1878: RuntimeWarning: Degrees of freedom <= 0 for slice.\n",
      "  var = nanvar(a, axis=axis, dtype=dtype, out=out, ddof=ddof,\n",
      "/Users/Jamin/Library/CloudStorage/GoogleDrive-jaminrader.science@gmail.com/My Drive/2024/ForcedTrend/data_methods.py:174: RuntimeWarning: Mean of empty slice\n",
      "  Dmean = np.nanmean(basis, axis=2)[:, :, None, ...]\n",
      "WARNING:absl:At this time, the v2.11+ optimizer `tf.keras.optimizers.Adam` runs slowly on M1/M2 Macs, please use the legacy Keras optimizer instead, located at `tf.keras.optimizers.legacy.Adam`.\n",
      "WARNING:absl:There is a known slowdown when using v2.11+ Keras optimizers on M1/M2 Macs. Falling back to the legacy Keras optimizer, i.e., `tf.keras.optimizers.legacy.Adam`.\n"
     ]
    },
    {
     "name": "stdout",
     "output_type": "stream",
     "text": [
      "*** Training model for main2_bootI\n",
      "Time elapsed for training:  1237.9930770397186\n",
      "*** Making predictions for main2_bootI\n",
      "621/621 [==============================] - 92s 148ms/step\n",
      "73/73 [==============================] - 12s 165ms/step\n",
      "156/156 [==============================] - 26s 164ms/step\n",
      "R2 of IV: 0.913\n",
      "15-yr Trends MAESS: 0.683\n",
      "*** Preparing data for main2_bootF\n",
      "{'data_fn': 'standard_tos_annual.npz', 'obs_fn': 'era5_sst_annual_regrid.nc', 'split_members': ([0, 1, 2, 3, 4, 5, 6, 7, 8, 9, 10, 11, 12, 13, 14, 15, 16], [17, 18, 19, 20, 21, 22, 23, 24], [0, 1, 2, 3, 4, 5, 6, 7, 8, 9, 10, 11, 12, 13, 14, 15, 16, 17, 18, 19, 20, 21, 22, 23, 24]), 'data_aug_method': 'bootstrap_Ftrain2Ftest', 'alter_forced_method': None, 'in_stand_method': 'self_by_member_mean_only', 'out_stand_method': 'gridpoint_stand', 'seed': 0, 'learn_rate': 0.001, 'patience': 15, 'batch_size': 64, 'max_epochs': 5, 'encoding_nodes': [100, 100], 'code_nodes': 100, 'activation': 'tanh', 'ridge': 0.0, 'variational': False, 'variational_loss': 0.0001, 'bias_init': 'random', 'kernel_init': 'random', 'skip': True, 'conv_blocks': ([['Skip'], ['Conv', 32, 3, 1, 'relu'], ['Conv', 32, 3, 1, 'relu'], ['MaxP', 2], ['Skip']], [['Conv', 32, 3, 1, 'relu'], ['Conv', 32, 3, 1, 'relu'], ['MaxP', 2], ['Skip']]), 'split_models': ([0, 1, 3, 4], [0, 1, 3, 4], [2]), 'exp_name': 'main2_bootF'}\n"
     ]
    },
    {
     "name": "stderr",
     "output_type": "stream",
     "text": [
      "/Users/Jamin/Library/CloudStorage/GoogleDrive-jaminrader.science@gmail.com/My Drive/2024/ForcedTrend/data_methods.py:151: RuntimeWarning: Mean of empty slice\n",
      "  Dmean = np.nanmean(basis, axis=(0,1,2))[None, None, None, ...]\n",
      "/Users/Jamin/miniforge3/envs/forcetrend/lib/python3.9/site-packages/numpy/lib/nanfunctions.py:1878: RuntimeWarning: Degrees of freedom <= 0 for slice.\n",
      "  var = nanvar(a, axis=axis, dtype=dtype, out=out, ddof=ddof,\n",
      "/Users/Jamin/Library/CloudStorage/GoogleDrive-jaminrader.science@gmail.com/My Drive/2024/ForcedTrend/data_methods.py:174: RuntimeWarning: Mean of empty slice\n",
      "  Dmean = np.nanmean(basis, axis=2)[:, :, None, ...]\n"
     ]
    },
    {
     "name": "stdout",
     "output_type": "stream",
     "text": [
      "*** Training model for main2_bootF\n"
     ]
    },
    {
     "name": "stderr",
     "output_type": "stream",
     "text": [
      "WARNING:absl:At this time, the v2.11+ optimizer `tf.keras.optimizers.Adam` runs slowly on M1/M2 Macs, please use the legacy Keras optimizer instead, located at `tf.keras.optimizers.legacy.Adam`.\n",
      "WARNING:absl:There is a known slowdown when using v2.11+ Keras optimizers on M1/M2 Macs. Falling back to the legacy Keras optimizer, i.e., `tf.keras.optimizers.legacy.Adam`.\n"
     ]
    },
    {
     "name": "stdout",
     "output_type": "stream",
     "text": [
      "Time elapsed for training:  1186.1381440162659\n",
      "*** Making predictions for main2_bootF\n",
      "621/621 [==============================] - 87s 141ms/step\n",
      "73/73 [==============================] - 11s 149ms/step\n",
      "156/156 [==============================] - 22s 143ms/step\n",
      "R2 of IV: 0.906\n",
      "15-yr Trends MAESS: 0.114\n",
      "*** Preparing data for main2_I\n",
      "{'data_fn': 'standard_tos_annual.npz', 'obs_fn': 'era5_sst_annual_regrid.nc', 'split_members': ([0, 1, 2, 3, 4, 5, 6, 7, 8, 9, 10, 11, 12, 13, 14, 15, 16], [17, 18, 19, 20, 21, 22, 23, 24], [0, 1, 2, 3, 4, 5, 6, 7, 8, 9, 10, 11, 12, 13, 14, 15, 16, 17, 18, 19, 20, 21, 22, 23, 24]), 'data_aug_method': 'Itrain2Itest', 'alter_forced_method': None, 'in_stand_method': 'self_by_member_mean_only', 'out_stand_method': 'gridpoint_stand', 'seed': 0, 'learn_rate': 0.001, 'patience': 15, 'batch_size': 64, 'max_epochs': 5, 'encoding_nodes': [100, 100], 'code_nodes': 100, 'activation': 'tanh', 'ridge': 0.0, 'variational': False, 'variational_loss': 0.0001, 'bias_init': 'random', 'kernel_init': 'random', 'skip': True, 'conv_blocks': ([['Skip'], ['Conv', 32, 3, 1, 'relu'], ['Conv', 32, 3, 1, 'relu'], ['MaxP', 2], ['Skip']], [['Conv', 32, 3, 1, 'relu'], ['Conv', 32, 3, 1, 'relu'], ['MaxP', 2], ['Skip']]), 'split_models': ([0, 1, 3, 4], [0, 1, 3, 4], [2]), 'exp_name': 'main2_I'}\n"
     ]
    },
    {
     "name": "stderr",
     "output_type": "stream",
     "text": [
      "/Users/Jamin/Library/CloudStorage/GoogleDrive-jaminrader.science@gmail.com/My Drive/2024/ForcedTrend/data_methods.py:151: RuntimeWarning: Mean of empty slice\n",
      "  Dmean = np.nanmean(basis, axis=(0,1,2))[None, None, None, ...]\n",
      "/Users/Jamin/miniforge3/envs/forcetrend/lib/python3.9/site-packages/numpy/lib/nanfunctions.py:1878: RuntimeWarning: Degrees of freedom <= 0 for slice.\n",
      "  var = nanvar(a, axis=axis, dtype=dtype, out=out, ddof=ddof,\n",
      "/Users/Jamin/Library/CloudStorage/GoogleDrive-jaminrader.science@gmail.com/My Drive/2024/ForcedTrend/data_methods.py:174: RuntimeWarning: Mean of empty slice\n",
      "  Dmean = np.nanmean(basis, axis=2)[:, :, None, ...]\n"
     ]
    },
    {
     "name": "stdout",
     "output_type": "stream",
     "text": [
      "*** Training model for main2_I\n"
     ]
    },
    {
     "name": "stderr",
     "output_type": "stream",
     "text": [
      "WARNING:absl:At this time, the v2.11+ optimizer `tf.keras.optimizers.Adam` runs slowly on M1/M2 Macs, please use the legacy Keras optimizer instead, located at `tf.keras.optimizers.legacy.Adam`.\n",
      "WARNING:absl:There is a known slowdown when using v2.11+ Keras optimizers on M1/M2 Macs. Falling back to the legacy Keras optimizer, i.e., `tf.keras.optimizers.legacy.Adam`.\n"
     ]
    },
    {
     "name": "stdout",
     "output_type": "stream",
     "text": [
      "Time elapsed for training:  331.38714385032654\n",
      "*** Making predictions for main2_I\n",
      "156/156 [==============================] - 23s 149ms/step\n",
      "73/73 [==============================] - 12s 160ms/step\n",
      "156/156 [==============================] - 24s 153ms/step\n",
      "R2 of IV: 0.871\n",
      "15-yr Trends MAESS: 0.649\n",
      "*** Preparing data for main2_F\n",
      "{'data_fn': 'standard_tos_annual.npz', 'obs_fn': 'era5_sst_annual_regrid.nc', 'split_members': ([0, 1, 2, 3, 4, 5, 6, 7, 8, 9, 10, 11, 12, 13, 14, 15, 16], [17, 18, 19, 20, 21, 22, 23, 24], [0, 1, 2, 3, 4, 5, 6, 7, 8, 9, 10, 11, 12, 13, 14, 15, 16, 17, 18, 19, 20, 21, 22, 23, 24]), 'data_aug_method': 'Ftrain2Ftest', 'alter_forced_method': None, 'in_stand_method': 'self_by_member_mean_only', 'out_stand_method': 'gridpoint_stand', 'seed': 0, 'learn_rate': 0.001, 'patience': 15, 'batch_size': 64, 'max_epochs': 5, 'encoding_nodes': [100, 100], 'code_nodes': 100, 'activation': 'tanh', 'ridge': 0.0, 'variational': False, 'variational_loss': 0.0001, 'bias_init': 'random', 'kernel_init': 'random', 'skip': True, 'conv_blocks': ([['Skip'], ['Conv', 32, 3, 1, 'relu'], ['Conv', 32, 3, 1, 'relu'], ['MaxP', 2], ['Skip']], [['Conv', 32, 3, 1, 'relu'], ['Conv', 32, 3, 1, 'relu'], ['MaxP', 2], ['Skip']]), 'split_models': ([0, 1, 3, 4], [0, 1, 3, 4], [2]), 'exp_name': 'main2_F'}\n"
     ]
    },
    {
     "name": "stderr",
     "output_type": "stream",
     "text": [
      "/Users/Jamin/Library/CloudStorage/GoogleDrive-jaminrader.science@gmail.com/My Drive/2024/ForcedTrend/data_methods.py:151: RuntimeWarning: Mean of empty slice\n",
      "  Dmean = np.nanmean(basis, axis=(0,1,2))[None, None, None, ...]\n",
      "/Users/Jamin/miniforge3/envs/forcetrend/lib/python3.9/site-packages/numpy/lib/nanfunctions.py:1878: RuntimeWarning: Degrees of freedom <= 0 for slice.\n",
      "  var = nanvar(a, axis=axis, dtype=dtype, out=out, ddof=ddof,\n",
      "/Users/Jamin/Library/CloudStorage/GoogleDrive-jaminrader.science@gmail.com/My Drive/2024/ForcedTrend/data_methods.py:174: RuntimeWarning: Mean of empty slice\n",
      "  Dmean = np.nanmean(basis, axis=2)[:, :, None, ...]\n"
     ]
    },
    {
     "name": "stdout",
     "output_type": "stream",
     "text": [
      "*** Training model for main2_F\n"
     ]
    },
    {
     "name": "stderr",
     "output_type": "stream",
     "text": [
      "WARNING:absl:At this time, the v2.11+ optimizer `tf.keras.optimizers.Adam` runs slowly on M1/M2 Macs, please use the legacy Keras optimizer instead, located at `tf.keras.optimizers.legacy.Adam`.\n",
      "WARNING:absl:There is a known slowdown when using v2.11+ Keras optimizers on M1/M2 Macs. Falling back to the legacy Keras optimizer, i.e., `tf.keras.optimizers.legacy.Adam`.\n"
     ]
    },
    {
     "name": "stdout",
     "output_type": "stream",
     "text": [
      "Time elapsed for training:  350.68904876708984\n",
      "*** Making predictions for main2_F\n",
      "156/156 [==============================] - 24s 152ms/step\n",
      "73/73 [==============================] - 12s 168ms/step\n",
      "156/156 [==============================] - 25s 159ms/step\n",
      "R2 of IV: 0.843\n",
      "15-yr Trends MAESS: -0.209\n",
      "*** Preparing data for main1_noboot\n",
      "{'data_fn': 'standard_tos_annual.npz', 'obs_fn': 'era5_sst_annual_regrid.nc', 'split_members': ([0, 1, 2, 3, 4, 5, 6, 7, 8, 9, 10, 11, 12, 13, 14, 15, 16], [17, 18, 19, 20, 21, 22, 23, 24], [0, 1, 2, 3, 4, 5, 6, 7, 8, 9, 10, 11, 12, 13, 14, 15, 16, 17, 18, 19, 20, 21, 22, 23, 24]), 'data_aug_method': None, 'alter_forced_method': None, 'in_stand_method': 'self_by_member_mean_only', 'out_stand_method': 'gridpoint_stand', 'seed': 0, 'learn_rate': 0.001, 'patience': 15, 'batch_size': 64, 'max_epochs': 5, 'encoding_nodes': [100, 100], 'code_nodes': 100, 'activation': 'tanh', 'ridge': 0.0, 'variational': False, 'variational_loss': 0.0001, 'bias_init': 'random', 'kernel_init': 'random', 'skip': True, 'conv_blocks': ([['Skip'], ['Conv', 32, 3, 1, 'relu'], ['Conv', 32, 3, 1, 'relu'], ['MaxP', 2], ['Skip']], [['Conv', 32, 3, 1, 'relu'], ['Conv', 32, 3, 1, 'relu'], ['MaxP', 2], ['Skip']]), 'split_models': ([0, 2, 3, 4], [0, 2, 3, 4], [1]), 'exp_name': 'main1_noboot'}\n"
     ]
    },
    {
     "name": "stderr",
     "output_type": "stream",
     "text": [
      "/Users/Jamin/Library/CloudStorage/GoogleDrive-jaminrader.science@gmail.com/My Drive/2024/ForcedTrend/data_methods.py:151: RuntimeWarning: Mean of empty slice\n",
      "  Dmean = np.nanmean(basis, axis=(0,1,2))[None, None, None, ...]\n",
      "/Users/Jamin/miniforge3/envs/forcetrend/lib/python3.9/site-packages/numpy/lib/nanfunctions.py:1878: RuntimeWarning: Degrees of freedom <= 0 for slice.\n",
      "  var = nanvar(a, axis=axis, dtype=dtype, out=out, ddof=ddof,\n",
      "/Users/Jamin/Library/CloudStorage/GoogleDrive-jaminrader.science@gmail.com/My Drive/2024/ForcedTrend/data_methods.py:174: RuntimeWarning: Mean of empty slice\n",
      "  Dmean = np.nanmean(basis, axis=2)[:, :, None, ...]\n"
     ]
    },
    {
     "name": "stdout",
     "output_type": "stream",
     "text": [
      "*** Training model for main1_noboot\n"
     ]
    },
    {
     "name": "stderr",
     "output_type": "stream",
     "text": [
      "WARNING:absl:At this time, the v2.11+ optimizer `tf.keras.optimizers.Adam` runs slowly on M1/M2 Macs, please use the legacy Keras optimizer instead, located at `tf.keras.optimizers.legacy.Adam`.\n",
      "WARNING:absl:There is a known slowdown when using v2.11+ Keras optimizers on M1/M2 Macs. Falling back to the legacy Keras optimizer, i.e., `tf.keras.optimizers.legacy.Adam`.\n"
     ]
    },
    {
     "name": "stdout",
     "output_type": "stream",
     "text": [
      "Time elapsed for training:  351.70525908470154\n",
      "*** Making predictions for main1_noboot\n",
      "156/156 [==============================] - 24s 156ms/step\n",
      "73/73 [==============================] - 12s 166ms/step\n",
      "58/58 [==============================] - 10s 166ms/step\n",
      "R2 of IV: 0.766\n",
      "15-yr Trends MAESS: 0.600\n",
      "*** Preparing data for main1_bootI\n",
      "{'data_fn': 'standard_tos_annual.npz', 'obs_fn': 'era5_sst_annual_regrid.nc', 'split_members': ([0, 1, 2, 3, 4, 5, 6, 7, 8, 9, 10, 11, 12, 13, 14, 15, 16], [17, 18, 19, 20, 21, 22, 23, 24], [0, 1, 2, 3, 4, 5, 6, 7, 8, 9, 10, 11, 12, 13, 14, 15, 16, 17, 18, 19, 20, 21, 22, 23, 24]), 'data_aug_method': 'bootstrap_Itrain2Itest', 'alter_forced_method': None, 'in_stand_method': 'self_by_member_mean_only', 'out_stand_method': 'gridpoint_stand', 'seed': 0, 'learn_rate': 0.001, 'patience': 15, 'batch_size': 64, 'max_epochs': 5, 'encoding_nodes': [100, 100], 'code_nodes': 100, 'activation': 'tanh', 'ridge': 0.0, 'variational': False, 'variational_loss': 0.0001, 'bias_init': 'random', 'kernel_init': 'random', 'skip': True, 'conv_blocks': ([['Skip'], ['Conv', 32, 3, 1, 'relu'], ['Conv', 32, 3, 1, 'relu'], ['MaxP', 2], ['Skip']], [['Conv', 32, 3, 1, 'relu'], ['Conv', 32, 3, 1, 'relu'], ['MaxP', 2], ['Skip']]), 'split_models': ([0, 2, 3, 4], [0, 2, 3, 4], [1]), 'exp_name': 'main1_bootI'}\n"
     ]
    },
    {
     "name": "stderr",
     "output_type": "stream",
     "text": [
      "/Users/Jamin/Library/CloudStorage/GoogleDrive-jaminrader.science@gmail.com/My Drive/2024/ForcedTrend/data_methods.py:151: RuntimeWarning: Mean of empty slice\n",
      "  Dmean = np.nanmean(basis, axis=(0,1,2))[None, None, None, ...]\n",
      "/Users/Jamin/miniforge3/envs/forcetrend/lib/python3.9/site-packages/numpy/lib/nanfunctions.py:1878: RuntimeWarning: Degrees of freedom <= 0 for slice.\n",
      "  var = nanvar(a, axis=axis, dtype=dtype, out=out, ddof=ddof,\n",
      "/Users/Jamin/Library/CloudStorage/GoogleDrive-jaminrader.science@gmail.com/My Drive/2024/ForcedTrend/data_methods.py:174: RuntimeWarning: Mean of empty slice\n",
      "  Dmean = np.nanmean(basis, axis=2)[:, :, None, ...]\n",
      "WARNING:absl:At this time, the v2.11+ optimizer `tf.keras.optimizers.Adam` runs slowly on M1/M2 Macs, please use the legacy Keras optimizer instead, located at `tf.keras.optimizers.legacy.Adam`.\n",
      "WARNING:absl:There is a known slowdown when using v2.11+ Keras optimizers on M1/M2 Macs. Falling back to the legacy Keras optimizer, i.e., `tf.keras.optimizers.legacy.Adam`.\n"
     ]
    },
    {
     "name": "stdout",
     "output_type": "stream",
     "text": [
      "*** Training model for main1_bootI\n",
      "Time elapsed for training:  1244.553703069687\n",
      "*** Making predictions for main1_bootI\n",
      "621/621 [==============================] - 94s 152ms/step\n",
      "73/73 [==============================] - 11s 154ms/step\n",
      "156/156 [==============================] - 24s 155ms/step\n",
      "R2 of IV: 0.866\n",
      "15-yr Trends MAESS: 0.678\n",
      "*** Preparing data for main1_bootF\n",
      "{'data_fn': 'standard_tos_annual.npz', 'obs_fn': 'era5_sst_annual_regrid.nc', 'split_members': ([0, 1, 2, 3, 4, 5, 6, 7, 8, 9, 10, 11, 12, 13, 14, 15, 16], [17, 18, 19, 20, 21, 22, 23, 24], [0, 1, 2, 3, 4, 5, 6, 7, 8, 9, 10, 11, 12, 13, 14, 15, 16, 17, 18, 19, 20, 21, 22, 23, 24]), 'data_aug_method': 'bootstrap_Ftrain2Ftest', 'alter_forced_method': None, 'in_stand_method': 'self_by_member_mean_only', 'out_stand_method': 'gridpoint_stand', 'seed': 0, 'learn_rate': 0.001, 'patience': 15, 'batch_size': 64, 'max_epochs': 5, 'encoding_nodes': [100, 100], 'code_nodes': 100, 'activation': 'tanh', 'ridge': 0.0, 'variational': False, 'variational_loss': 0.0001, 'bias_init': 'random', 'kernel_init': 'random', 'skip': True, 'conv_blocks': ([['Skip'], ['Conv', 32, 3, 1, 'relu'], ['Conv', 32, 3, 1, 'relu'], ['MaxP', 2], ['Skip']], [['Conv', 32, 3, 1, 'relu'], ['Conv', 32, 3, 1, 'relu'], ['MaxP', 2], ['Skip']]), 'split_models': ([0, 2, 3, 4], [0, 2, 3, 4], [1]), 'exp_name': 'main1_bootF'}\n"
     ]
    },
    {
     "name": "stderr",
     "output_type": "stream",
     "text": [
      "/Users/Jamin/Library/CloudStorage/GoogleDrive-jaminrader.science@gmail.com/My Drive/2024/ForcedTrend/data_methods.py:151: RuntimeWarning: Mean of empty slice\n",
      "  Dmean = np.nanmean(basis, axis=(0,1,2))[None, None, None, ...]\n",
      "/Users/Jamin/miniforge3/envs/forcetrend/lib/python3.9/site-packages/numpy/lib/nanfunctions.py:1878: RuntimeWarning: Degrees of freedom <= 0 for slice.\n",
      "  var = nanvar(a, axis=axis, dtype=dtype, out=out, ddof=ddof,\n",
      "/Users/Jamin/Library/CloudStorage/GoogleDrive-jaminrader.science@gmail.com/My Drive/2024/ForcedTrend/data_methods.py:174: RuntimeWarning: Mean of empty slice\n",
      "  Dmean = np.nanmean(basis, axis=2)[:, :, None, ...]\n"
     ]
    },
    {
     "name": "stdout",
     "output_type": "stream",
     "text": [
      "*** Training model for main1_bootF\n"
     ]
    },
    {
     "name": "stderr",
     "output_type": "stream",
     "text": [
      "WARNING:absl:At this time, the v2.11+ optimizer `tf.keras.optimizers.Adam` runs slowly on M1/M2 Macs, please use the legacy Keras optimizer instead, located at `tf.keras.optimizers.legacy.Adam`.\n",
      "WARNING:absl:There is a known slowdown when using v2.11+ Keras optimizers on M1/M2 Macs. Falling back to the legacy Keras optimizer, i.e., `tf.keras.optimizers.legacy.Adam`.\n"
     ]
    },
    {
     "name": "stdout",
     "output_type": "stream",
     "text": [
      "Time elapsed for training:  1233.5963399410248\n",
      "*** Making predictions for main1_bootF\n",
      "621/621 [==============================] - 94s 151ms/step\n",
      "73/73 [==============================] - 11s 155ms/step\n",
      "156/156 [==============================] - 24s 153ms/step\n",
      "R2 of IV: 0.879\n",
      "15-yr Trends MAESS: 0.699\n",
      "*** Preparing data for main1_I\n",
      "{'data_fn': 'standard_tos_annual.npz', 'obs_fn': 'era5_sst_annual_regrid.nc', 'split_members': ([0, 1, 2, 3, 4, 5, 6, 7, 8, 9, 10, 11, 12, 13, 14, 15, 16], [17, 18, 19, 20, 21, 22, 23, 24], [0, 1, 2, 3, 4, 5, 6, 7, 8, 9, 10, 11, 12, 13, 14, 15, 16, 17, 18, 19, 20, 21, 22, 23, 24]), 'data_aug_method': 'Itrain2Itest', 'alter_forced_method': None, 'in_stand_method': 'self_by_member_mean_only', 'out_stand_method': 'gridpoint_stand', 'seed': 0, 'learn_rate': 0.001, 'patience': 15, 'batch_size': 64, 'max_epochs': 5, 'encoding_nodes': [100, 100], 'code_nodes': 100, 'activation': 'tanh', 'ridge': 0.0, 'variational': False, 'variational_loss': 0.0001, 'bias_init': 'random', 'kernel_init': 'random', 'skip': True, 'conv_blocks': ([['Skip'], ['Conv', 32, 3, 1, 'relu'], ['Conv', 32, 3, 1, 'relu'], ['MaxP', 2], ['Skip']], [['Conv', 32, 3, 1, 'relu'], ['Conv', 32, 3, 1, 'relu'], ['MaxP', 2], ['Skip']]), 'split_models': ([0, 2, 3, 4], [0, 2, 3, 4], [1]), 'exp_name': 'main1_I'}\n"
     ]
    },
    {
     "name": "stderr",
     "output_type": "stream",
     "text": [
      "/Users/Jamin/Library/CloudStorage/GoogleDrive-jaminrader.science@gmail.com/My Drive/2024/ForcedTrend/data_methods.py:151: RuntimeWarning: Mean of empty slice\n",
      "  Dmean = np.nanmean(basis, axis=(0,1,2))[None, None, None, ...]\n",
      "/Users/Jamin/miniforge3/envs/forcetrend/lib/python3.9/site-packages/numpy/lib/nanfunctions.py:1878: RuntimeWarning: Degrees of freedom <= 0 for slice.\n",
      "  var = nanvar(a, axis=axis, dtype=dtype, out=out, ddof=ddof,\n",
      "/Users/Jamin/Library/CloudStorage/GoogleDrive-jaminrader.science@gmail.com/My Drive/2024/ForcedTrend/data_methods.py:174: RuntimeWarning: Mean of empty slice\n",
      "  Dmean = np.nanmean(basis, axis=2)[:, :, None, ...]\n"
     ]
    },
    {
     "name": "stdout",
     "output_type": "stream",
     "text": [
      "*** Training model for main1_I\n"
     ]
    },
    {
     "name": "stderr",
     "output_type": "stream",
     "text": [
      "WARNING:absl:At this time, the v2.11+ optimizer `tf.keras.optimizers.Adam` runs slowly on M1/M2 Macs, please use the legacy Keras optimizer instead, located at `tf.keras.optimizers.legacy.Adam`.\n",
      "WARNING:absl:There is a known slowdown when using v2.11+ Keras optimizers on M1/M2 Macs. Falling back to the legacy Keras optimizer, i.e., `tf.keras.optimizers.legacy.Adam`.\n"
     ]
    },
    {
     "name": "stdout",
     "output_type": "stream",
     "text": [
      "Time elapsed for training:  355.0131709575653\n",
      "*** Making predictions for main1_I\n",
      "156/156 [==============================] - 25s 159ms/step\n",
      "73/73 [==============================] - 12s 167ms/step\n",
      "156/156 [==============================] - 25s 162ms/step\n",
      "R2 of IV: 0.845\n",
      "15-yr Trends MAESS: 0.637\n",
      "*** Preparing data for main1_F\n",
      "{'data_fn': 'standard_tos_annual.npz', 'obs_fn': 'era5_sst_annual_regrid.nc', 'split_members': ([0, 1, 2, 3, 4, 5, 6, 7, 8, 9, 10, 11, 12, 13, 14, 15, 16], [17, 18, 19, 20, 21, 22, 23, 24], [0, 1, 2, 3, 4, 5, 6, 7, 8, 9, 10, 11, 12, 13, 14, 15, 16, 17, 18, 19, 20, 21, 22, 23, 24]), 'data_aug_method': 'Ftrain2Ftest', 'alter_forced_method': None, 'in_stand_method': 'self_by_member_mean_only', 'out_stand_method': 'gridpoint_stand', 'seed': 0, 'learn_rate': 0.001, 'patience': 15, 'batch_size': 64, 'max_epochs': 5, 'encoding_nodes': [100, 100], 'code_nodes': 100, 'activation': 'tanh', 'ridge': 0.0, 'variational': False, 'variational_loss': 0.0001, 'bias_init': 'random', 'kernel_init': 'random', 'skip': True, 'conv_blocks': ([['Skip'], ['Conv', 32, 3, 1, 'relu'], ['Conv', 32, 3, 1, 'relu'], ['MaxP', 2], ['Skip']], [['Conv', 32, 3, 1, 'relu'], ['Conv', 32, 3, 1, 'relu'], ['MaxP', 2], ['Skip']]), 'split_models': ([0, 2, 3, 4], [0, 2, 3, 4], [1]), 'exp_name': 'main1_F'}\n"
     ]
    },
    {
     "name": "stderr",
     "output_type": "stream",
     "text": [
      "/Users/Jamin/Library/CloudStorage/GoogleDrive-jaminrader.science@gmail.com/My Drive/2024/ForcedTrend/data_methods.py:151: RuntimeWarning: Mean of empty slice\n",
      "  Dmean = np.nanmean(basis, axis=(0,1,2))[None, None, None, ...]\n",
      "/Users/Jamin/miniforge3/envs/forcetrend/lib/python3.9/site-packages/numpy/lib/nanfunctions.py:1878: RuntimeWarning: Degrees of freedom <= 0 for slice.\n",
      "  var = nanvar(a, axis=axis, dtype=dtype, out=out, ddof=ddof,\n",
      "/Users/Jamin/Library/CloudStorage/GoogleDrive-jaminrader.science@gmail.com/My Drive/2024/ForcedTrend/data_methods.py:174: RuntimeWarning: Mean of empty slice\n",
      "  Dmean = np.nanmean(basis, axis=2)[:, :, None, ...]\n"
     ]
    },
    {
     "name": "stdout",
     "output_type": "stream",
     "text": [
      "*** Training model for main1_F\n"
     ]
    },
    {
     "name": "stderr",
     "output_type": "stream",
     "text": [
      "WARNING:absl:At this time, the v2.11+ optimizer `tf.keras.optimizers.Adam` runs slowly on M1/M2 Macs, please use the legacy Keras optimizer instead, located at `tf.keras.optimizers.legacy.Adam`.\n",
      "WARNING:absl:There is a known slowdown when using v2.11+ Keras optimizers on M1/M2 Macs. Falling back to the legacy Keras optimizer, i.e., `tf.keras.optimizers.legacy.Adam`.\n"
     ]
    },
    {
     "name": "stdout",
     "output_type": "stream",
     "text": [
      "Time elapsed for training:  352.64954900741577\n",
      "*** Making predictions for main1_F\n",
      "156/156 [==============================] - 24s 155ms/step\n",
      "73/73 [==============================] - 12s 161ms/step\n",
      "156/156 [==============================] - 24s 156ms/step\n",
      "R2 of IV: 0.856\n",
      "15-yr Trends MAESS: 0.657\n",
      "*** Preparing data for main0_noboot\n",
      "{'data_fn': 'standard_tos_annual.npz', 'obs_fn': 'era5_sst_annual_regrid.nc', 'split_members': ([0, 1, 2, 3, 4, 5, 6, 7, 8, 9, 10, 11, 12, 13, 14, 15, 16], [17, 18, 19, 20, 21, 22, 23, 24], [0, 1, 2, 3, 4, 5, 6, 7, 8, 9, 10, 11, 12, 13, 14, 15, 16, 17, 18, 19, 20, 21, 22, 23, 24]), 'data_aug_method': None, 'alter_forced_method': None, 'in_stand_method': 'self_by_member_mean_only', 'out_stand_method': 'gridpoint_stand', 'seed': 0, 'learn_rate': 0.001, 'patience': 15, 'batch_size': 64, 'max_epochs': 5, 'encoding_nodes': [100, 100], 'code_nodes': 100, 'activation': 'tanh', 'ridge': 0.0, 'variational': False, 'variational_loss': 0.0001, 'bias_init': 'random', 'kernel_init': 'random', 'skip': True, 'conv_blocks': ([['Skip'], ['Conv', 32, 3, 1, 'relu'], ['Conv', 32, 3, 1, 'relu'], ['MaxP', 2], ['Skip']], [['Conv', 32, 3, 1, 'relu'], ['Conv', 32, 3, 1, 'relu'], ['MaxP', 2], ['Skip']]), 'split_models': ([1, 2, 3, 4], [1, 2, 3, 4], [0]), 'exp_name': 'main0_noboot'}\n"
     ]
    },
    {
     "name": "stderr",
     "output_type": "stream",
     "text": [
      "/Users/Jamin/Library/CloudStorage/GoogleDrive-jaminrader.science@gmail.com/My Drive/2024/ForcedTrend/data_methods.py:151: RuntimeWarning: Mean of empty slice\n",
      "  Dmean = np.nanmean(basis, axis=(0,1,2))[None, None, None, ...]\n",
      "/Users/Jamin/miniforge3/envs/forcetrend/lib/python3.9/site-packages/numpy/lib/nanfunctions.py:1878: RuntimeWarning: Degrees of freedom <= 0 for slice.\n",
      "  var = nanvar(a, axis=axis, dtype=dtype, out=out, ddof=ddof,\n",
      "/Users/Jamin/Library/CloudStorage/GoogleDrive-jaminrader.science@gmail.com/My Drive/2024/ForcedTrend/data_methods.py:174: RuntimeWarning: Mean of empty slice\n",
      "  Dmean = np.nanmean(basis, axis=2)[:, :, None, ...]\n"
     ]
    },
    {
     "name": "stdout",
     "output_type": "stream",
     "text": [
      "*** Training model for main0_noboot\n"
     ]
    },
    {
     "name": "stderr",
     "output_type": "stream",
     "text": [
      "WARNING:absl:At this time, the v2.11+ optimizer `tf.keras.optimizers.Adam` runs slowly on M1/M2 Macs, please use the legacy Keras optimizer instead, located at `tf.keras.optimizers.legacy.Adam`.\n",
      "WARNING:absl:There is a known slowdown when using v2.11+ Keras optimizers on M1/M2 Macs. Falling back to the legacy Keras optimizer, i.e., `tf.keras.optimizers.legacy.Adam`.\n"
     ]
    },
    {
     "name": "stdout",
     "output_type": "stream",
     "text": [
      "Time elapsed for training:  353.55368304252625\n",
      "*** Making predictions for main0_noboot\n",
      "156/156 [==============================] - 24s 155ms/step\n",
      "73/73 [==============================] - 12s 162ms/step\n",
      "58/58 [==============================] - 9s 147ms/step\n",
      "R2 of IV: 0.901\n",
      "15-yr Trends MAESS: 0.688\n",
      "*** Preparing data for main0_bootI\n",
      "{'data_fn': 'standard_tos_annual.npz', 'obs_fn': 'era5_sst_annual_regrid.nc', 'split_members': ([0, 1, 2, 3, 4, 5, 6, 7, 8, 9, 10, 11, 12, 13, 14, 15, 16], [17, 18, 19, 20, 21, 22, 23, 24], [0, 1, 2, 3, 4, 5, 6, 7, 8, 9, 10, 11, 12, 13, 14, 15, 16, 17, 18, 19, 20, 21, 22, 23, 24]), 'data_aug_method': 'bootstrap_Itrain2Itest', 'alter_forced_method': None, 'in_stand_method': 'self_by_member_mean_only', 'out_stand_method': 'gridpoint_stand', 'seed': 0, 'learn_rate': 0.001, 'patience': 15, 'batch_size': 64, 'max_epochs': 5, 'encoding_nodes': [100, 100], 'code_nodes': 100, 'activation': 'tanh', 'ridge': 0.0, 'variational': False, 'variational_loss': 0.0001, 'bias_init': 'random', 'kernel_init': 'random', 'skip': True, 'conv_blocks': ([['Skip'], ['Conv', 32, 3, 1, 'relu'], ['Conv', 32, 3, 1, 'relu'], ['MaxP', 2], ['Skip']], [['Conv', 32, 3, 1, 'relu'], ['Conv', 32, 3, 1, 'relu'], ['MaxP', 2], ['Skip']]), 'split_models': ([1, 2, 3, 4], [1, 2, 3, 4], [0]), 'exp_name': 'main0_bootI'}\n"
     ]
    },
    {
     "name": "stderr",
     "output_type": "stream",
     "text": [
      "/Users/Jamin/Library/CloudStorage/GoogleDrive-jaminrader.science@gmail.com/My Drive/2024/ForcedTrend/data_methods.py:151: RuntimeWarning: Mean of empty slice\n",
      "  Dmean = np.nanmean(basis, axis=(0,1,2))[None, None, None, ...]\n",
      "/Users/Jamin/miniforge3/envs/forcetrend/lib/python3.9/site-packages/numpy/lib/nanfunctions.py:1878: RuntimeWarning: Degrees of freedom <= 0 for slice.\n",
      "  var = nanvar(a, axis=axis, dtype=dtype, out=out, ddof=ddof,\n",
      "/Users/Jamin/Library/CloudStorage/GoogleDrive-jaminrader.science@gmail.com/My Drive/2024/ForcedTrend/data_methods.py:174: RuntimeWarning: Mean of empty slice\n",
      "  Dmean = np.nanmean(basis, axis=2)[:, :, None, ...]\n",
      "WARNING:absl:At this time, the v2.11+ optimizer `tf.keras.optimizers.Adam` runs slowly on M1/M2 Macs, please use the legacy Keras optimizer instead, located at `tf.keras.optimizers.legacy.Adam`.\n",
      "WARNING:absl:There is a known slowdown when using v2.11+ Keras optimizers on M1/M2 Macs. Falling back to the legacy Keras optimizer, i.e., `tf.keras.optimizers.legacy.Adam`.\n"
     ]
    },
    {
     "name": "stdout",
     "output_type": "stream",
     "text": [
      "*** Training model for main0_bootI\n",
      "Time elapsed for training:  1238.1225028038025\n",
      "*** Making predictions for main0_bootI\n",
      "621/621 [==============================] - 93s 150ms/step\n",
      "73/73 [==============================] - 11s 154ms/step\n",
      "156/156 [==============================] - 24s 152ms/step\n",
      "R2 of IV: 0.925\n",
      "15-yr Trends MAESS: 0.758\n",
      "*** Preparing data for main0_bootF\n",
      "{'data_fn': 'standard_tos_annual.npz', 'obs_fn': 'era5_sst_annual_regrid.nc', 'split_members': ([0, 1, 2, 3, 4, 5, 6, 7, 8, 9, 10, 11, 12, 13, 14, 15, 16], [17, 18, 19, 20, 21, 22, 23, 24], [0, 1, 2, 3, 4, 5, 6, 7, 8, 9, 10, 11, 12, 13, 14, 15, 16, 17, 18, 19, 20, 21, 22, 23, 24]), 'data_aug_method': 'bootstrap_Ftrain2Ftest', 'alter_forced_method': None, 'in_stand_method': 'self_by_member_mean_only', 'out_stand_method': 'gridpoint_stand', 'seed': 0, 'learn_rate': 0.001, 'patience': 15, 'batch_size': 64, 'max_epochs': 5, 'encoding_nodes': [100, 100], 'code_nodes': 100, 'activation': 'tanh', 'ridge': 0.0, 'variational': False, 'variational_loss': 0.0001, 'bias_init': 'random', 'kernel_init': 'random', 'skip': True, 'conv_blocks': ([['Skip'], ['Conv', 32, 3, 1, 'relu'], ['Conv', 32, 3, 1, 'relu'], ['MaxP', 2], ['Skip']], [['Conv', 32, 3, 1, 'relu'], ['Conv', 32, 3, 1, 'relu'], ['MaxP', 2], ['Skip']]), 'split_models': ([1, 2, 3, 4], [1, 2, 3, 4], [0]), 'exp_name': 'main0_bootF'}\n"
     ]
    },
    {
     "name": "stderr",
     "output_type": "stream",
     "text": [
      "/Users/Jamin/Library/CloudStorage/GoogleDrive-jaminrader.science@gmail.com/My Drive/2024/ForcedTrend/data_methods.py:151: RuntimeWarning: Mean of empty slice\n",
      "  Dmean = np.nanmean(basis, axis=(0,1,2))[None, None, None, ...]\n",
      "/Users/Jamin/miniforge3/envs/forcetrend/lib/python3.9/site-packages/numpy/lib/nanfunctions.py:1878: RuntimeWarning: Degrees of freedom <= 0 for slice.\n",
      "  var = nanvar(a, axis=axis, dtype=dtype, out=out, ddof=ddof,\n",
      "/Users/Jamin/Library/CloudStorage/GoogleDrive-jaminrader.science@gmail.com/My Drive/2024/ForcedTrend/data_methods.py:174: RuntimeWarning: Mean of empty slice\n",
      "  Dmean = np.nanmean(basis, axis=2)[:, :, None, ...]\n"
     ]
    },
    {
     "name": "stdout",
     "output_type": "stream",
     "text": [
      "*** Training model for main0_bootF\n"
     ]
    },
    {
     "name": "stderr",
     "output_type": "stream",
     "text": [
      "WARNING:absl:At this time, the v2.11+ optimizer `tf.keras.optimizers.Adam` runs slowly on M1/M2 Macs, please use the legacy Keras optimizer instead, located at `tf.keras.optimizers.legacy.Adam`.\n",
      "WARNING:absl:There is a known slowdown when using v2.11+ Keras optimizers on M1/M2 Macs. Falling back to the legacy Keras optimizer, i.e., `tf.keras.optimizers.legacy.Adam`.\n"
     ]
    },
    {
     "name": "stdout",
     "output_type": "stream",
     "text": [
      "Time elapsed for training:  1227.4607620239258\n",
      "*** Making predictions for main0_bootF\n",
      "621/621 [==============================] - 89s 144ms/step\n",
      "73/73 [==============================] - 12s 160ms/step\n",
      "156/156 [==============================] - 25s 158ms/step\n",
      "R2 of IV: 0.929\n",
      "15-yr Trends MAESS: 0.699\n",
      "*** Preparing data for main0_I\n",
      "{'data_fn': 'standard_tos_annual.npz', 'obs_fn': 'era5_sst_annual_regrid.nc', 'split_members': ([0, 1, 2, 3, 4, 5, 6, 7, 8, 9, 10, 11, 12, 13, 14, 15, 16], [17, 18, 19, 20, 21, 22, 23, 24], [0, 1, 2, 3, 4, 5, 6, 7, 8, 9, 10, 11, 12, 13, 14, 15, 16, 17, 18, 19, 20, 21, 22, 23, 24]), 'data_aug_method': 'Itrain2Itest', 'alter_forced_method': None, 'in_stand_method': 'self_by_member_mean_only', 'out_stand_method': 'gridpoint_stand', 'seed': 0, 'learn_rate': 0.001, 'patience': 15, 'batch_size': 64, 'max_epochs': 5, 'encoding_nodes': [100, 100], 'code_nodes': 100, 'activation': 'tanh', 'ridge': 0.0, 'variational': False, 'variational_loss': 0.0001, 'bias_init': 'random', 'kernel_init': 'random', 'skip': True, 'conv_blocks': ([['Skip'], ['Conv', 32, 3, 1, 'relu'], ['Conv', 32, 3, 1, 'relu'], ['MaxP', 2], ['Skip']], [['Conv', 32, 3, 1, 'relu'], ['Conv', 32, 3, 1, 'relu'], ['MaxP', 2], ['Skip']]), 'split_models': ([1, 2, 3, 4], [1, 2, 3, 4], [0]), 'exp_name': 'main0_I'}\n"
     ]
    },
    {
     "name": "stderr",
     "output_type": "stream",
     "text": [
      "/Users/Jamin/Library/CloudStorage/GoogleDrive-jaminrader.science@gmail.com/My Drive/2024/ForcedTrend/data_methods.py:151: RuntimeWarning: Mean of empty slice\n",
      "  Dmean = np.nanmean(basis, axis=(0,1,2))[None, None, None, ...]\n",
      "/Users/Jamin/miniforge3/envs/forcetrend/lib/python3.9/site-packages/numpy/lib/nanfunctions.py:1878: RuntimeWarning: Degrees of freedom <= 0 for slice.\n",
      "  var = nanvar(a, axis=axis, dtype=dtype, out=out, ddof=ddof,\n",
      "/Users/Jamin/Library/CloudStorage/GoogleDrive-jaminrader.science@gmail.com/My Drive/2024/ForcedTrend/data_methods.py:174: RuntimeWarning: Mean of empty slice\n",
      "  Dmean = np.nanmean(basis, axis=2)[:, :, None, ...]\n"
     ]
    },
    {
     "name": "stdout",
     "output_type": "stream",
     "text": [
      "*** Training model for main0_I\n"
     ]
    },
    {
     "name": "stderr",
     "output_type": "stream",
     "text": [
      "WARNING:absl:At this time, the v2.11+ optimizer `tf.keras.optimizers.Adam` runs slowly on M1/M2 Macs, please use the legacy Keras optimizer instead, located at `tf.keras.optimizers.legacy.Adam`.\n",
      "WARNING:absl:There is a known slowdown when using v2.11+ Keras optimizers on M1/M2 Macs. Falling back to the legacy Keras optimizer, i.e., `tf.keras.optimizers.legacy.Adam`.\n"
     ]
    },
    {
     "name": "stdout",
     "output_type": "stream",
     "text": [
      "Time elapsed for training:  351.3137788772583\n",
      "*** Making predictions for main0_I\n",
      "156/156 [==============================] - 25s 157ms/step\n",
      "73/73 [==============================] - 12s 162ms/step\n",
      "156/156 [==============================] - 24s 152ms/step\n",
      "R2 of IV: 0.883\n",
      "15-yr Trends MAESS: 0.700\n",
      "*** Preparing data for main0_F\n",
      "{'data_fn': 'standard_tos_annual.npz', 'obs_fn': 'era5_sst_annual_regrid.nc', 'split_members': ([0, 1, 2, 3, 4, 5, 6, 7, 8, 9, 10, 11, 12, 13, 14, 15, 16], [17, 18, 19, 20, 21, 22, 23, 24], [0, 1, 2, 3, 4, 5, 6, 7, 8, 9, 10, 11, 12, 13, 14, 15, 16, 17, 18, 19, 20, 21, 22, 23, 24]), 'data_aug_method': 'Ftrain2Ftest', 'alter_forced_method': None, 'in_stand_method': 'self_by_member_mean_only', 'out_stand_method': 'gridpoint_stand', 'seed': 0, 'learn_rate': 0.001, 'patience': 15, 'batch_size': 64, 'max_epochs': 5, 'encoding_nodes': [100, 100], 'code_nodes': 100, 'activation': 'tanh', 'ridge': 0.0, 'variational': False, 'variational_loss': 0.0001, 'bias_init': 'random', 'kernel_init': 'random', 'skip': True, 'conv_blocks': ([['Skip'], ['Conv', 32, 3, 1, 'relu'], ['Conv', 32, 3, 1, 'relu'], ['MaxP', 2], ['Skip']], [['Conv', 32, 3, 1, 'relu'], ['Conv', 32, 3, 1, 'relu'], ['MaxP', 2], ['Skip']]), 'split_models': ([1, 2, 3, 4], [1, 2, 3, 4], [0]), 'exp_name': 'main0_F'}\n"
     ]
    },
    {
     "name": "stderr",
     "output_type": "stream",
     "text": [
      "/Users/Jamin/Library/CloudStorage/GoogleDrive-jaminrader.science@gmail.com/My Drive/2024/ForcedTrend/data_methods.py:151: RuntimeWarning: Mean of empty slice\n",
      "  Dmean = np.nanmean(basis, axis=(0,1,2))[None, None, None, ...]\n",
      "/Users/Jamin/miniforge3/envs/forcetrend/lib/python3.9/site-packages/numpy/lib/nanfunctions.py:1878: RuntimeWarning: Degrees of freedom <= 0 for slice.\n",
      "  var = nanvar(a, axis=axis, dtype=dtype, out=out, ddof=ddof,\n",
      "/Users/Jamin/Library/CloudStorage/GoogleDrive-jaminrader.science@gmail.com/My Drive/2024/ForcedTrend/data_methods.py:174: RuntimeWarning: Mean of empty slice\n",
      "  Dmean = np.nanmean(basis, axis=2)[:, :, None, ...]\n"
     ]
    },
    {
     "name": "stdout",
     "output_type": "stream",
     "text": [
      "*** Training model for main0_F\n"
     ]
    },
    {
     "name": "stderr",
     "output_type": "stream",
     "text": [
      "WARNING:absl:At this time, the v2.11+ optimizer `tf.keras.optimizers.Adam` runs slowly on M1/M2 Macs, please use the legacy Keras optimizer instead, located at `tf.keras.optimizers.legacy.Adam`.\n",
      "WARNING:absl:There is a known slowdown when using v2.11+ Keras optimizers on M1/M2 Macs. Falling back to the legacy Keras optimizer, i.e., `tf.keras.optimizers.legacy.Adam`.\n"
     ]
    },
    {
     "name": "stdout",
     "output_type": "stream",
     "text": [
      "Time elapsed for training:  351.4853639602661\n",
      "*** Making predictions for main0_F\n",
      "156/156 [==============================] - 24s 155ms/step\n",
      "73/73 [==============================] - 12s 167ms/step\n",
      "156/156 [==============================] - 25s 161ms/step\n",
      "R2 of IV: 0.897\n",
      "15-yr Trends MAESS: 0.665\n"
     ]
    }
   ],
   "source": [
    "EXPERIMENTS = [\"tune_code1\",]\n",
    "for EXP in EXPERIMENTS:\n",
    "\n",
    "    base_dirs = directories.get_dirs()\n",
    "    start_time = time.localtime()\n",
    "\n",
    "    print('*** Preparing data for ' + EXP)\n",
    "\n",
    "    # I.D. experiment settings\n",
    "    settings = experiments.get_settings(EXP)\n",
    "    print(settings)\n",
    "\n",
    "    Atr, Ava, Ate, Aob, Ftr, Fva, Fte, Itr, Iva, Ite, \\\n",
    "            Xtr, Xva, Xte, Xob, Xshapes, Ttr, Tva, Tte, Tshapes, \\\n",
    "            Tmean, Tstd, lats, lons, M = data_methods.prepare_data(settings, base_dirs)\n",
    "\n",
    "\n",
    "    # Train the model\n",
    "    print('*** Training model for ' + EXP)\n",
    "    start_train_time = time.time()\n",
    "    tf.keras.utils.set_random_seed(settings['seed'])\n",
    "    model, encoder, decoder = network_methods.train_CVED(Xtr, Ttr, Xva, Tva, settings,verbose=0)\n",
    "    print('Time elapsed for training: ', time.time() - start_train_time)\n",
    "\n",
    "    # Make predictions\n",
    "    print('*** Making predictions for ' + EXP)\n",
    "    Ptr = model.predict(Xtr)\n",
    "    _ = gc.collect()\n",
    "    Pva = model.predict(Xva)\n",
    "    _ = gc.collect()\n",
    "    Pte = model.predict(Xte)\n",
    "    _ = gc.collect()\n",
    "    PItr = data_methods.unstandardize_predictions(Ptr, Tmean, Tstd, Tshapes[0], M)\n",
    "    PIva = data_methods.unstandardize_predictions(Pva, Tmean, Tstd, Tshapes[1], M)\n",
    "    PIte = data_methods.unstandardize_predictions(Pte, Tmean, Tstd, Tshapes[2], M)\n",
    "    PFtr = Atr[..., 0:1] - PItr\n",
    "    PFva = Ava[..., 0:1] - PIva\n",
    "    PFte = Ate[..., 0:1] - PIte\n",
    "\n",
    "    from multiprocessing import Pool\n",
    "\n",
    "    # Compute R2 score\n",
    "    test_IV_R2_str = 'test R2 of IV: %.3f' % metrics.R2(Ite, PIte, weighted=True, lats=lats)\n",
    "    print(test_IV_R2_str)\n",
    "\n",
    "    val_IV_R2_str = 'val R2 of IV: %.3f' % metrics.R2(Iva, PIva, weighted=True, lats=lats)\n",
    "    print(val_IV_R2_str)\n",
    "\n",
    "    # Compute MAE\n",
    "    test_IV_MAE_str = 'test MAE of IV: %.3f' % metrics.MAE(Ite, PIte, weighted=True, lats=lats)\n",
    "    print(test_IV_MAE_str)\n",
    "\n",
    "    val_IV_MAE_str = 'val MAE of IV: %.3f' % metrics.MAE(Iva, PIva, weighted=True, lats=lats)\n",
    "    print(val_IV_MAE_str)\n",
    "\n",
    "    #Compute MAE of global-mean\n",
    "    test_IV_gMAE_str = 'test gMAE of IV: %.3f' % metrics.globalMAE(Ite, PIte, lats)\n",
    "    print(test_IV_gMAE_str)\n",
    "\n",
    "    val_IV_gMAE_str = 'val gMAE of IV: %.3f' % metrics.globalMAE(Iva, PIva, lats)\n",
    "    print(val_IV_gMAE_str)\n",
    "\n",
    "    # Compute mean error of global-mean\n",
    "    test_IV_gE_str = 'test gE of IV: %.3f' % metrics.globalE(Ite, PIte, lats)\n",
    "    print(test_IV_gE_str)\n",
    "\n",
    "    val_IV_gE_str = 'val gE of IV: %.3f' % metrics.globalE(Iva, PIva, lats)\n",
    "    print(val_IV_gE_str)\n",
    "\n",
    "    # # Compute MAESS of 15-yr trends\n",
    "    # slope_len=15\n",
    "    # with Pool(6) as p:\n",
    "    #     all_slopes_list = p.map(data_methods.calc_slopes(slope_len=slope_len), [Fte, PFte, Ate])\n",
    "\n",
    "    # SFte, SPFte, SAte = all_slopes_list\n",
    "\n",
    "    # SFte = np.array(SFte)\n",
    "    # SPFte = np.array(SPFte)\n",
    "    # SAte = np.array(SAte)\n",
    "\n",
    "    # # Calc MAESS\n",
    "    # skill_score = (1 - np.abs(np.array(SPFte) - np.array(SFte)).mean(axis=(0,1,2,3,5,6)) / np.abs(np.array(SAte) - np.array(SFte)).mean(axis=(0,1,2,3,5,6)))\n",
    "    # maess_trend_str = str(slope_len) + '-yr Trends MAESS: %.3f' % metrics.weighted_mean(skill_score, lats, lat_axis=0, axis=None)\n",
    "    # print(maess_trend_str)\n",
    "\n",
    "    if append_to_tuning_txt:\n",
    "        with open(\"tuning_results_\" + user_name + \".txt\", \"a\") as myfile:\n",
    "            myfile.write(EXP + \\\n",
    "                         \"\\n\" + test_IV_R2_str + '\\n' + test_IV_MAE_str + \\\n",
    "                         \"\\n\" + test_IV_gMAE_str + '\\n' + test_IV_gE_str + \\\n",
    "                         \"\\n\" + val_IV_R2_str + '\\n' + val_IV_MAE_str + \\\n",
    "                         \"\\n\" + val_IV_gMAE_str + '\\n' + val_IV_gE_str + '\\n' + '\\n' )"
   ]
  },
  {
   "cell_type": "code",
   "execution_count": null,
   "metadata": {},
   "outputs": [],
   "source": []
  }
 ],
 "metadata": {
  "kernelspec": {
   "display_name": "temp",
   "language": "python",
   "name": "python3"
  },
  "language_info": {
   "codemirror_mode": {
    "name": "ipython",
    "version": 3
   },
   "file_extension": ".py",
   "mimetype": "text/x-python",
   "name": "python",
   "nbconvert_exporter": "python",
   "pygments_lexer": "ipython3",
   "version": "3.9.-1"
  }
 },
 "nbformat": 4,
 "nbformat_minor": 2
}
